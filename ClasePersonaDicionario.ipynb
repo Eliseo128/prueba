{
  "nbformat": 4,
  "nbformat_minor": 0,
  "metadata": {
    "colab": {
      "provenance": [],
      "authorship_tag": "ABX9TyPcLJby2Io75823OiJbxyMf",
      "include_colab_link": true
    },
    "kernelspec": {
      "name": "python3",
      "display_name": "Python 3"
    },
    "language_info": {
      "name": "python"
    }
  },
  "cells": [
    {
      "cell_type": "markdown",
      "metadata": {
        "id": "view-in-github",
        "colab_type": "text"
      },
      "source": [
        "<a href=\"https://colab.research.google.com/github/Eliseo128/prueba/blob/main/ClasePersonaDicionario.ipynb\" target=\"_parent\"><img src=\"https://colab.research.google.com/assets/colab-badge.svg\" alt=\"Open In Colab\"/></a>"
      ]
    },
    {
      "cell_type": "code",
      "execution_count": null,
      "metadata": {
        "id": "yiMIJx-LBj_P"
      },
      "outputs": [],
      "source": [
        "class Persona:\n",
        "    def __init__(self, diccionario):\n",
        "        # Asignar los valores del diccionario a los atributos de la clase\n",
        "        self.nombre = diccionario.get(\"nombre\")\n",
        "        self.edad = diccionario.get(\"edad\")\n",
        "        self.ciudad = diccionario.get(\"ciudad\")\n",
        "        # ... otros atributos\n",
        "\n",
        "    def __str__(self):\n",
        "        # Definir cómo se representa la clase como cadena\n",
        "        return f\"Nombre: {self.nombre}, Edad: {self.edad}, Ciudad: {self.ciudad}\"\n",
        "\n",
        "# Crear un diccionario con los datos de una persona\n",
        "datos_persona = {\"nombre\": \"Alice\", \"edad\": 30, \"ciudad\": \"Nueva York\"}\n",
        "\n",
        "# Crear una instancia de la clase Persona a partir del diccionario\n",
        "persona = Persona(datos_persona)\n",
        "\n",
        "# Imprimir la información de la persona\n",
        "print(persona)  # Salida: Nombre: Alice, Edad: 30, Ciudad: Nueva York"
      ]
    }
  ]
}