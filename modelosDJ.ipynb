{
  "nbformat": 4,
  "nbformat_minor": 0,
  "metadata": {
    "colab": {
      "provenance": [],
      "authorship_tag": "ABX9TyNqnmy+vNEiUAxuhCovj+sn",
      "include_colab_link": true
    },
    "kernelspec": {
      "name": "python3",
      "display_name": "Python 3"
    },
    "language_info": {
      "name": "python"
    }
  },
  "cells": [
    {
      "cell_type": "markdown",
      "metadata": {
        "id": "view-in-github",
        "colab_type": "text"
      },
      "source": [
        "<a href=\"https://colab.research.google.com/github/Eliseo128/prueba/blob/main/modelosDJ.ipynb\" target=\"_parent\"><img src=\"https://colab.research.google.com/assets/colab-badge.svg\" alt=\"Open In Colab\"/></a>"
      ]
    },
    {
      "cell_type": "markdown",
      "source": [
        "[Explicacion](https://raw.githubusercontent.com/Eliseo128/prueba/refs/heads/main/explicamodelopy.png)\n",
        "\n",
        "En el archivo models.py escribe el siguiente codigo"
      ],
      "metadata": {
        "id": "y_m7ubnnFHIN"
      }
    },
    {
      "cell_type": "code",
      "source": [
        "from django.db import models\n",
        "\n",
        "class Producto(models.Model):\n",
        "    nombre = models.CharField(max_length=255)\n",
        "    descripcion = models.TextField()\n",
        "    precio = models.DecimalField(max_digits=10, decimal_places=2)\n",
        "    imagen = models.ImageField(upload_to='productos/', blank=True, null=True)\n",
        "    creado_en = models.DateTimeField(auto_now_add=True)\n",
        "    actualizado_en = models.DateTimeField(auto_now=True)\n",
        "\n",
        "    def __str__(self):\n",
        "        return self.nombre"
      ],
      "metadata": {
        "id": "DyThRw9eDPvc"
      },
      "execution_count": null,
      "outputs": []
    },
    {
      "cell_type": "markdown",
      "source": [
        "Realizar migraciones"
      ],
      "metadata": {
        "id": "B8NcdXlAEyR4"
      }
    },
    {
      "cell_type": "code",
      "source": [
        "python manage.py makemigrations"
      ],
      "metadata": {
        "id": "ZRBHvkYrEaIs"
      },
      "execution_count": null,
      "outputs": []
    },
    {
      "cell_type": "markdown",
      "source": [
        "realiza la micracion"
      ],
      "metadata": {
        "id": "Z2d9KVqUE7E1"
      }
    },
    {
      "cell_type": "code",
      "source": [
        "python manage.py migrate"
      ],
      "metadata": {
        "id": "xOIxxIbGEcJf"
      },
      "execution_count": null,
      "outputs": []
    },
    {
      "cell_type": "markdown",
      "source": [
        "Crea instancias del modelo en tu código:"
      ],
      "metadata": {
        "id": "e13OFXWWFWDt"
      }
    },
    {
      "cell_type": "code",
      "source": [
        "from .models import Producto\n",
        "\n",
        "   producto = Producto(nombre='Camiseta', descripcion='Una camiseta de algodón', precio=19.99)\n",
        "   producto.save()"
      ],
      "metadata": {
        "id": "tWXYZXgnEkXl"
      },
      "execution_count": null,
      "outputs": []
    },
    {
      "cell_type": "markdown",
      "source": [
        "Recuerda configurar MEDIA_ROOT y MEDIA_URL en tu archivo settings.py para que las imágenes se guarden y se sirvan correctamente."
      ],
      "metadata": {
        "id": "uyGZ2J6sF27n"
      }
    },
    {
      "cell_type": "markdown",
      "source": [
        "[texto del enlace](https://)"
      ],
      "metadata": {
        "id": "vp9ejIXZHIzW"
      }
    }
  ]
}