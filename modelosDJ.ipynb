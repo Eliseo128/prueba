{
  "nbformat": 4,
  "nbformat_minor": 0,
  "metadata": {
    "colab": {
      "provenance": [],
      "authorship_tag": "ABX9TyNe4AoU1sF1zCkULJb92cfY",
      "include_colab_link": true
    },
    "kernelspec": {
      "name": "python3",
      "display_name": "Python 3"
    },
    "language_info": {
      "name": "python"
    }
  },
  "cells": [
    {
      "cell_type": "markdown",
      "metadata": {
        "id": "view-in-github",
        "colab_type": "text"
      },
      "source": [
        "<a href=\"https://colab.research.google.com/github/Eliseo128/prueba/blob/main/modelosDJ.ipynb\" target=\"_parent\"><img src=\"https://colab.research.google.com/assets/colab-badge.svg\" alt=\"Open In Colab\"/></a>"
      ]
    },
    {
      "cell_type": "code",
      "source": [
        "from django.db import models\n",
        "\n",
        "class Producto(models.Model):\n",
        "    nombre = models.CharField(max_length=255)\n",
        "    descripcion = models.TextField()\n",
        "    precio = models.DecimalField(max_digits=10, decimal_places=2)\n",
        "    imagen = models.ImageField(upload_to='productos/', blank=True, null=True)\n",
        "    creado_en = models.DateTimeField(auto_now_add=True)\n",
        "    actualizado_en = models.DateTimeField(auto_now=True)\n",
        "\n",
        "    def __str__(self):\n",
        "        return self.nombre"
      ],
      "metadata": {
        "id": "DyThRw9eDPvc"
      },
      "execution_count": null,
      "outputs": []
    },
    {
      "cell_type": "code",
      "source": [
        "python manage.py makemigrations"
      ],
      "metadata": {
        "id": "ZRBHvkYrEaIs"
      },
      "execution_count": null,
      "outputs": []
    },
    {
      "cell_type": "code",
      "source": [
        "python manage.py migrate"
      ],
      "metadata": {
        "id": "xOIxxIbGEcJf"
      },
      "execution_count": null,
      "outputs": []
    },
    {
      "cell_type": "code",
      "source": [
        "from .models import Producto\n",
        "\n",
        "   producto = Producto(nombre='Camiseta', descripcion='Una camiseta de algodón', precio=19.99)\n",
        "   producto.save()"
      ],
      "metadata": {
        "id": "tWXYZXgnEkXl"
      },
      "execution_count": null,
      "outputs": []
    }
  ]
}