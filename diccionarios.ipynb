{
  "nbformat": 4,
  "nbformat_minor": 0,
  "metadata": {
    "colab": {
      "provenance": [],
      "authorship_tag": "ABX9TyNTCVSIOAADp8lCdS6iR3hG",
      "include_colab_link": true
    },
    "kernelspec": {
      "name": "python3",
      "display_name": "Python 3"
    },
    "language_info": {
      "name": "python"
    }
  },
  "cells": [
    {
      "cell_type": "markdown",
      "metadata": {
        "id": "view-in-github",
        "colab_type": "text"
      },
      "source": [
        "<a href=\"https://colab.research.google.com/github/Eliseo128/prueba/blob/main/diccionarios.ipynb\" target=\"_parent\"><img src=\"https://colab.research.google.com/assets/colab-badge.svg\" alt=\"Open In Colab\"/></a>"
      ]
    },
    {
      "cell_type": "code",
      "source": [
        "# prompt: ejjemplo de diccionarios en python\n",
        "\n",
        "# Crear un diccionario vacío\n",
        "mi_diccionario = {}\n",
        "\n",
        "# Crear un diccionario con algunos elementos\n",
        "otro_diccionario = {\"nombre\": \"Alice\", \"edad\": 30, \"ciudad\": \"Nueva York\"}\n",
        "\n",
        "# Acceder a los valores de un diccionario\n",
        "print(otro_diccionario[\"nombre\"])  # Salida: Alice\n",
        "\n",
        "# Agregar un nuevo elemento a un diccionario\n",
        "otro_diccionario[\"profesion\"] = \"Ingeniera\"\n",
        "print(otro_diccionario)\n",
        "\n",
        "# Modificar el valor de un elemento\n",
        "otro_diccionario[\"edad\"] = 31\n",
        "print(otro_diccionario)\n",
        "\n",
        "# Eliminar un elemento\n",
        "del otro_diccionario[\"ciudad\"]\n",
        "print(otro_diccionario)\n",
        "\n",
        "# Iterar sobre un diccionario\n",
        "for clave, valor in otro_diccionario.items():\n",
        "    print(f\"Clave: {clave}, Valor: {valor}\")\n",
        "\n",
        "\n",
        "# Verificar si una clave existe\n",
        "if \"nombre\" in otro_diccionario:\n",
        "    print(\"La clave 'nombre' existe en el diccionario\")\n",
        "\n",
        "# Obtener el valor asociado a una clave, con un valor por defecto si no existe\n",
        "pais = otro_diccionario.get(\"pais\", \"Desconocido\") # Si no hay pais usa Desconocido\n",
        "print(pais) # Salida: Desconocido\n",
        "\n",
        "# Obtener todas las claves\n",
        "claves = otro_diccionario.keys()\n",
        "print(claves)\n",
        "\n",
        "# Obtener todos los valores\n",
        "valores = otro_diccionario.values()\n",
        "print(valores)\n",
        "\n",
        "\n",
        "# Diccionario con listas como valores\n",
        "diccionario_con_listas = {\n",
        "    \"frutas\": [\"manzana\", \"banana\", \"naranja\"],\n",
        "    \"colores\": [\"rojo\", \"verde\", \"azul\"]\n",
        "}\n",
        "print(diccionario_con_listas[\"frutas\"][0]) # Imprime \"manzana\""
      ],
      "metadata": {
        "id": "BQRbD6oM9Mnz"
      },
      "execution_count": null,
      "outputs": []
    },
    {
      "cell_type": "markdown",
      "source": [],
      "metadata": {
        "id": "FdrSEzQR9Nbd"
      }
    }
  ]
}