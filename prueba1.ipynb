{
  "nbformat": 4,
  "nbformat_minor": 0,
  "metadata": {
    "colab": {
      "provenance": [],
      "authorship_tag": "ABX9TyPMcuJhstRs+nEQrrPmjuNm",
      "include_colab_link": true
    },
    "kernelspec": {
      "name": "python3",
      "display_name": "Python 3"
    },
    "language_info": {
      "name": "python"
    }
  },
  "cells": [
    {
      "cell_type": "markdown",
      "metadata": {
        "id": "view-in-github",
        "colab_type": "text"
      },
      "source": [
        "<a href=\"https://colab.research.google.com/github/Eliseo128/prueba/blob/main/prueba1.ipynb\" target=\"_parent\"><img src=\"https://colab.research.google.com/assets/colab-badge.svg\" alt=\"Open In Colab\"/></a>"
      ]
    },
    {
      "cell_type": "code",
      "execution_count": null,
      "metadata": {
        "id": "Xir0W5uz6Sr-"
      },
      "outputs": [],
      "source": [
        "# prompt: ejemplo de listas en python\n",
        "\n",
        "# Crear una lista vacía\n",
        "my_list = []\n",
        "\n",
        "# Crear una lista con elementos\n",
        "fruits = [\"apple\", \"banana\", \"cherry\"]\n",
        "\n",
        "# Acceder a elementos de la lista (el índice comienza en 0)\n",
        "print(fruits[0])  # Imprime \"apple\"\n",
        "print(fruits[1])  # Imprime \"banana\"\n",
        "\n",
        "# Modificar un elemento de la lista\n",
        "fruits[1] = \"orange\"\n",
        "print(fruits)  # Imprime [\"apple\", \"orange\", \"cherry\"]\n",
        "\n",
        "\n",
        "# Agregar elementos a la lista\n",
        "fruits.append(\"grape\")\n",
        "print(fruits) # Imprime [\"apple\", \"orange\", \"cherry\", \"grape\"]\n",
        "\n",
        "# Insertar un elemento en una posición específica\n",
        "fruits.insert(1, \"mango\")  # Inserta \"mango\" en la posición 1\n",
        "print(fruits) # Imprime [\"apple\", \"mango\", \"orange\", \"cherry\", \"grape\"]\n",
        "\n",
        "\n",
        "# Eliminar elementos de la lista\n",
        "fruits.remove(\"orange\")  # Elimina la primera ocurrencia de \"orange\"\n",
        "print(fruits) # Imprime [\"apple\", \"mango\", \"cherry\", \"grape\"]\n",
        "\n",
        "# Eliminar un elemento por su índice\n",
        "del fruits[0]\n",
        "print(fruits)  # Imprime [\"mango\", \"cherry\", \"grape\"]\n",
        "\n",
        "\n",
        "# Obtener la longitud de una lista\n",
        "print(len(fruits)) # Imprime 3\n",
        "\n",
        "\n",
        "# Iterar sobre una lista\n",
        "for fruit in fruits:\n",
        "    print(fruit)\n",
        "\n",
        "\n",
        "# Comprobar si un elemento está en la lista\n",
        "if \"cherry\" in fruits:\n",
        "    print(\"Cherry is in the list\")\n",
        "\n",
        "# Listas anidadas\n",
        "matrix = [[1, 2, 3], [4, 5, 6], [7, 8, 9]]\n",
        "print(matrix[0][1]) # Imprime 2\n"
      ]
    }
  ]
}